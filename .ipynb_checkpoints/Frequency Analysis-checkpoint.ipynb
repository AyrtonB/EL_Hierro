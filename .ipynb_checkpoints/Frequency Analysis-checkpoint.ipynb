{
 "cells": [
  {
   "cell_type": "markdown",
   "metadata": {},
   "source": [
    "# Frequency Analysis\n",
    "\n",
    "<br>\n",
    "\n",
    "#### Information in Frequency Measurements Folder\n",
    "\n",
    "Frequency meter Mutatio timesynch problem:\n",
    "\n",
    "Since 2016-04-21:\n",
    "No synchronisation with time server.\n",
    "\n",
    "Time Jump\n",
    "double data in files\n",
    "corrections in korr-vorn \n",
    "korr-hinten still ca 40 days wrong timestamp\n",
    "\n",
    "New start\n",
    "since 2017-02 timesync-problem solved\n",
    "\n",
    "<br>\n",
    "\n",
    "### Imports"
   ]
  },
  {
   "cell_type": "code",
   "execution_count": 1,
   "metadata": {},
   "outputs": [],
   "source": [
    "import pandas as pd\n",
    "import numpy as np\n",
    "\n",
    "import matplotlib.pyplot as plt\n",
    "import seaborn as sns\n",
    "\n",
    "import pytz\n",
    "from datetime import datetime\n",
    "\n",
    "import os"
   ]
  },
  {
   "cell_type": "markdown",
   "metadata": {},
   "source": [
    "<br>\n",
    "\n",
    "### Reading in Data\n",
    "\n",
    "First we'll create a list containing the filenames which contain the frequency data"
   ]
  },
  {
   "cell_type": "code",
   "execution_count": 2,
   "metadata": {},
   "outputs": [
    {
     "name": "stdout",
     "output_type": "stream",
     "text": [
      "Total of 259 files\n",
      "First 5: ['2016068.TXT', '2016069.TXT', '2016070.TXT', '2016071.TXT', '2016072.TXT']\n"
     ]
    }
   ],
   "source": [
    "filenames = os.listdir('data/frequency') \n",
    "\n",
    "print(f'Total of {len(filenames)} files')\n",
    "print(f'First 5: {filenames[:5]}')"
   ]
  },
  {
   "cell_type": "markdown",
   "metadata": {},
   "source": [
    "<br>\n",
    "\n",
    "Next we'll read in a single file\n",
    "\n",
    "We define the filepath, separator and columns, then drop the two unnecessary columns"
   ]
  },
  {
   "cell_type": "code",
   "execution_count": 72,
   "metadata": {},
   "outputs": [
    {
     "data": {
      "text/html": [
       "<div>\n",
       "<style scoped>\n",
       "    .dataframe tbody tr th:only-of-type {\n",
       "        vertical-align: middle;\n",
       "    }\n",
       "\n",
       "    .dataframe tbody tr th {\n",
       "        vertical-align: top;\n",
       "    }\n",
       "\n",
       "    .dataframe thead th {\n",
       "        text-align: right;\n",
       "    }\n",
       "</style>\n",
       "<table border=\"1\" class=\"dataframe\">\n",
       "  <thead>\n",
       "    <tr style=\"text-align: right;\">\n",
       "      <th></th>\n",
       "      <th>1457395248.161\t  50.06573\t61\t11</th>\n",
       "    </tr>\n",
       "  </thead>\n",
       "  <tbody>\n",
       "    <tr>\n",
       "      <th>0</th>\n",
       "      <td>1457395249.160\\t  50.07156\\t69\\t11</td>\n",
       "    </tr>\n",
       "    <tr>\n",
       "      <th>1</th>\n",
       "      <td>1457395250.158\\t  50.08883\\t56\\t11</td>\n",
       "    </tr>\n",
       "    <tr>\n",
       "      <th>2</th>\n",
       "      <td>1457395251.156\\t  50.09247\\t60\\t11</td>\n",
       "    </tr>\n",
       "    <tr>\n",
       "      <th>3</th>\n",
       "      <td>1457395252.155\\t  50.06212\\t66\\t11</td>\n",
       "    </tr>\n",
       "    <tr>\n",
       "      <th>4</th>\n",
       "      <td>1457395253.154\\t  50.03595\\t61\\t11</td>\n",
       "    </tr>\n",
       "  </tbody>\n",
       "</table>\n",
       "</div>"
      ],
      "text/plain": [
       "   1457395248.161\\t  50.06573\\t61\\t11\n",
       "0  1457395249.160\\t  50.07156\\t69\\t11\n",
       "1  1457395250.158\\t  50.08883\\t56\\t11\n",
       "2  1457395251.156\\t  50.09247\\t60\\t11\n",
       "3  1457395252.155\\t  50.06212\\t66\\t11\n",
       "4  1457395253.154\\t  50.03595\\t61\\t11"
      ]
     },
     "execution_count": 72,
     "metadata": {},
     "output_type": "execute_result"
    }
   ],
   "source": [
    "pd.read_csv('data/frequency/2016068.TXT').head()"
   ]
  },
  {
   "cell_type": "code",
   "execution_count": 18,
   "metadata": {},
   "outputs": [
    {
     "name": "stdout",
     "output_type": "stream",
     "text": [
      "Wall time: 94.8 ms\n"
     ]
    }
   ],
   "source": [
    "%%time\n",
    "\n",
    "def read_in(filename):\n",
    "    columns= ['UTC_timestamp', 'frequency_Hz', 'drop1', 'drop2']\n",
    "    filepath = f'data/frequency/{filename}'\n",
    "\n",
    "    df_freq = (pd\n",
    "               .read_csv(filepath, \n",
    "                           sep='\\t', \n",
    "                           header=None, \n",
    "                           names=columns)\n",
    "               .drop(columns=['drop1', 'drop2'])\n",
    "              )\n",
    "    \n",
    "    return df_freq\n",
    "\n",
    "df_freq = read_in(filenames[0])"
   ]
  },
  {
   "cell_type": "code",
   "execution_count": 19,
   "metadata": {},
   "outputs": [
    {
     "name": "stdout",
     "output_type": "stream",
     "text": [
      "Dataframe Shape: (83319, 2)\n",
      "\n"
     ]
    },
    {
     "data": {
      "text/html": [
       "<div>\n",
       "<style scoped>\n",
       "    .dataframe tbody tr th:only-of-type {\n",
       "        vertical-align: middle;\n",
       "    }\n",
       "\n",
       "    .dataframe tbody tr th {\n",
       "        vertical-align: top;\n",
       "    }\n",
       "\n",
       "    .dataframe thead th {\n",
       "        text-align: right;\n",
       "    }\n",
       "</style>\n",
       "<table border=\"1\" class=\"dataframe\">\n",
       "  <thead>\n",
       "    <tr style=\"text-align: right;\">\n",
       "      <th></th>\n",
       "      <th>UTC_timestamp</th>\n",
       "      <th>frequency_Hz</th>\n",
       "    </tr>\n",
       "  </thead>\n",
       "  <tbody>\n",
       "    <tr>\n",
       "      <th>0</th>\n",
       "      <td>1.457395e+09</td>\n",
       "      <td>50.06573</td>\n",
       "    </tr>\n",
       "    <tr>\n",
       "      <th>1</th>\n",
       "      <td>1.457395e+09</td>\n",
       "      <td>50.07156</td>\n",
       "    </tr>\n",
       "    <tr>\n",
       "      <th>2</th>\n",
       "      <td>1.457395e+09</td>\n",
       "      <td>50.08883</td>\n",
       "    </tr>\n",
       "    <tr>\n",
       "      <th>3</th>\n",
       "      <td>1.457395e+09</td>\n",
       "      <td>50.09247</td>\n",
       "    </tr>\n",
       "    <tr>\n",
       "      <th>4</th>\n",
       "      <td>1.457395e+09</td>\n",
       "      <td>50.06212</td>\n",
       "    </tr>\n",
       "  </tbody>\n",
       "</table>\n",
       "</div>"
      ],
      "text/plain": [
       "   UTC_timestamp  frequency_Hz\n",
       "0   1.457395e+09      50.06573\n",
       "1   1.457395e+09      50.07156\n",
       "2   1.457395e+09      50.08883\n",
       "3   1.457395e+09      50.09247\n",
       "4   1.457395e+09      50.06212"
      ]
     },
     "execution_count": 19,
     "metadata": {},
     "output_type": "execute_result"
    }
   ],
   "source": [
    "print(f'Dataframe Shape: {df_freq.shape}\\n')\n",
    "df_freq.head()"
   ]
  },
  {
   "cell_type": "markdown",
   "metadata": {},
   "source": [
    "<br>\n",
    "\n",
    "### Cleaning the Data\n",
    "\n",
    "The first step in this initial clean of the data is to convert the timestamp to the correct format"
   ]
  },
  {
   "cell_type": "code",
   "execution_count": 14,
   "metadata": {},
   "outputs": [
    {
     "name": "stdout",
     "output_type": "stream",
     "text": [
      "Wall time: 5.71 s\n"
     ]
    }
   ],
   "source": [
    "%%time\n",
    "\n",
    "df_freq['UTC_timestamp'] = df_freq.UTC_timestamp.apply(lambda ts: pd.to_datetime(datetime.utcfromtimestamp(ts)))\n",
    "df_freq['UTC_timestamp'] = pd.to_datetime(df_freq['UTC_timestamp'])"
   ]
  },
  {
   "cell_type": "code",
   "execution_count": 15,
   "metadata": {},
   "outputs": [
    {
     "data": {
      "text/html": [
       "<div>\n",
       "<style scoped>\n",
       "    .dataframe tbody tr th:only-of-type {\n",
       "        vertical-align: middle;\n",
       "    }\n",
       "\n",
       "    .dataframe tbody tr th {\n",
       "        vertical-align: top;\n",
       "    }\n",
       "\n",
       "    .dataframe thead th {\n",
       "        text-align: right;\n",
       "    }\n",
       "</style>\n",
       "<table border=\"1\" class=\"dataframe\">\n",
       "  <thead>\n",
       "    <tr style=\"text-align: right;\">\n",
       "      <th></th>\n",
       "      <th>UTC_timestamp</th>\n",
       "      <th>frequency_Hz</th>\n",
       "    </tr>\n",
       "  </thead>\n",
       "  <tbody>\n",
       "    <tr>\n",
       "      <th>0</th>\n",
       "      <td>2016-03-08 00:00:48.161</td>\n",
       "      <td>50.06573</td>\n",
       "    </tr>\n",
       "    <tr>\n",
       "      <th>1</th>\n",
       "      <td>2016-03-08 00:00:49.160</td>\n",
       "      <td>50.07156</td>\n",
       "    </tr>\n",
       "    <tr>\n",
       "      <th>2</th>\n",
       "      <td>2016-03-08 00:00:50.158</td>\n",
       "      <td>50.08883</td>\n",
       "    </tr>\n",
       "    <tr>\n",
       "      <th>3</th>\n",
       "      <td>2016-03-08 00:00:51.156</td>\n",
       "      <td>50.09247</td>\n",
       "    </tr>\n",
       "    <tr>\n",
       "      <th>4</th>\n",
       "      <td>2016-03-08 00:00:52.155</td>\n",
       "      <td>50.06212</td>\n",
       "    </tr>\n",
       "  </tbody>\n",
       "</table>\n",
       "</div>"
      ],
      "text/plain": [
       "            UTC_timestamp  frequency_Hz\n",
       "0 2016-03-08 00:00:48.161      50.06573\n",
       "1 2016-03-08 00:00:49.160      50.07156\n",
       "2 2016-03-08 00:00:50.158      50.08883\n",
       "3 2016-03-08 00:00:51.156      50.09247\n",
       "4 2016-03-08 00:00:52.155      50.06212"
      ]
     },
     "execution_count": 15,
     "metadata": {},
     "output_type": "execute_result"
    }
   ],
   "source": [
    "df_freq.head()"
   ]
  },
  {
   "cell_type": "code",
   "execution_count": 7,
   "metadata": {},
   "outputs": [
    {
     "data": {
      "text/html": [
       "<div>\n",
       "<style scoped>\n",
       "    .dataframe tbody tr th:only-of-type {\n",
       "        vertical-align: middle;\n",
       "    }\n",
       "\n",
       "    .dataframe tbody tr th {\n",
       "        vertical-align: top;\n",
       "    }\n",
       "\n",
       "    .dataframe thead th {\n",
       "        text-align: right;\n",
       "    }\n",
       "</style>\n",
       "<table border=\"1\" class=\"dataframe\">\n",
       "  <thead>\n",
       "    <tr style=\"text-align: right;\">\n",
       "      <th></th>\n",
       "      <th>UTC_timestamp</th>\n",
       "      <th>frequency_Hz</th>\n",
       "    </tr>\n",
       "  </thead>\n",
       "  <tbody>\n",
       "    <tr>\n",
       "      <th>0</th>\n",
       "      <td>2016-03-08 00:00:48</td>\n",
       "      <td>50.06573</td>\n",
       "    </tr>\n",
       "    <tr>\n",
       "      <th>1</th>\n",
       "      <td>2016-03-08 00:00:49</td>\n",
       "      <td>50.07156</td>\n",
       "    </tr>\n",
       "    <tr>\n",
       "      <th>2</th>\n",
       "      <td>2016-03-08 00:00:50</td>\n",
       "      <td>50.08883</td>\n",
       "    </tr>\n",
       "    <tr>\n",
       "      <th>3</th>\n",
       "      <td>2016-03-08 00:00:51</td>\n",
       "      <td>50.09247</td>\n",
       "    </tr>\n",
       "    <tr>\n",
       "      <th>4</th>\n",
       "      <td>2016-03-08 00:00:52</td>\n",
       "      <td>50.06212</td>\n",
       "    </tr>\n",
       "  </tbody>\n",
       "</table>\n",
       "</div>"
      ],
      "text/plain": [
       "        UTC_timestamp  frequency_Hz\n",
       "0 2016-03-08 00:00:48      50.06573\n",
       "1 2016-03-08 00:00:49      50.07156\n",
       "2 2016-03-08 00:00:50      50.08883\n",
       "3 2016-03-08 00:00:51      50.09247\n",
       "4 2016-03-08 00:00:52      50.06212"
      ]
     },
     "execution_count": 7,
     "metadata": {},
     "output_type": "execute_result"
    }
   ],
   "source": [
    "df_freq.head()"
   ]
  },
  {
   "cell_type": "markdown",
   "metadata": {},
   "source": [
    "<br>\n",
    "\n",
    "Finally we'll convert the datetimes into the correct timezone\n",
    "\n",
    "As we can see below there is no timezone information contained within the datetime metadata"
   ]
  },
  {
   "cell_type": "code",
   "execution_count": 8,
   "metadata": {},
   "outputs": [
    {
     "data": {
      "text/plain": [
       "'2016-03-08T00:00:48'"
      ]
     },
     "execution_count": 8,
     "metadata": {},
     "output_type": "execute_result"
    }
   ],
   "source": [
    "df_freq.UTC_timestamp[0].isoformat()"
   ]
  },
  {
   "cell_type": "code",
   "execution_count": 9,
   "metadata": {},
   "outputs": [
    {
     "name": "stdout",
     "output_type": "stream",
     "text": [
      "None\n"
     ]
    }
   ],
   "source": [
    "print(df_freq.UTC_timestamp[0].tzinfo)"
   ]
  },
  {
   "cell_type": "markdown",
   "metadata": {},
   "source": [
    "<br>\n",
    "\n",
    "We now define the timezone the measurements were recorded in and the timezone we wish to convert them into"
   ]
  },
  {
   "cell_type": "code",
   "execution_count": 17,
   "metadata": {},
   "outputs": [
    {
     "data": {
      "text/plain": [
       "<DstTzInfo 'Atlantic/Canary' LMT-1 day, 22:58:00 STD>"
      ]
     },
     "execution_count": 17,
     "metadata": {},
     "output_type": "execute_result"
    }
   ],
   "source": [
    "measurement_tz = pytz.timezone('UTC')\n",
    "island_tz = pytz.timezone('Atlantic/Canary')\n",
    "\n",
    "island_tz"
   ]
  },
  {
   "cell_type": "code",
   "execution_count": 11,
   "metadata": {},
   "outputs": [
    {
     "name": "stdout",
     "output_type": "stream",
     "text": [
      "Wall time: 2.82 s\n"
     ]
    }
   ],
   "source": [
    "%%time\n",
    "\n",
    "df_freq['UTC_timestamp'] = df_freq['UTC_timestamp'].apply(lambda datetime: measurement_tz.localize(datetime))\n",
    "df_freq['UTC_timestamp'] = df_freq['UTC_timestamp'].apply(lambda datetime: datetime.astimezone(island_tz))"
   ]
  },
  {
   "cell_type": "code",
   "execution_count": 12,
   "metadata": {},
   "outputs": [
    {
     "data": {
      "text/html": [
       "<div>\n",
       "<style scoped>\n",
       "    .dataframe tbody tr th:only-of-type {\n",
       "        vertical-align: middle;\n",
       "    }\n",
       "\n",
       "    .dataframe tbody tr th {\n",
       "        vertical-align: top;\n",
       "    }\n",
       "\n",
       "    .dataframe thead th {\n",
       "        text-align: right;\n",
       "    }\n",
       "</style>\n",
       "<table border=\"1\" class=\"dataframe\">\n",
       "  <thead>\n",
       "    <tr style=\"text-align: right;\">\n",
       "      <th></th>\n",
       "      <th>UTC_timestamp</th>\n",
       "      <th>frequency_Hz</th>\n",
       "    </tr>\n",
       "  </thead>\n",
       "  <tbody>\n",
       "    <tr>\n",
       "      <th>0</th>\n",
       "      <td>2016-03-08 00:00:48+00:00</td>\n",
       "      <td>50.06573</td>\n",
       "    </tr>\n",
       "    <tr>\n",
       "      <th>1</th>\n",
       "      <td>2016-03-08 00:00:49+00:00</td>\n",
       "      <td>50.07156</td>\n",
       "    </tr>\n",
       "    <tr>\n",
       "      <th>2</th>\n",
       "      <td>2016-03-08 00:00:50+00:00</td>\n",
       "      <td>50.08883</td>\n",
       "    </tr>\n",
       "    <tr>\n",
       "      <th>3</th>\n",
       "      <td>2016-03-08 00:00:51+00:00</td>\n",
       "      <td>50.09247</td>\n",
       "    </tr>\n",
       "    <tr>\n",
       "      <th>4</th>\n",
       "      <td>2016-03-08 00:00:52+00:00</td>\n",
       "      <td>50.06212</td>\n",
       "    </tr>\n",
       "  </tbody>\n",
       "</table>\n",
       "</div>"
      ],
      "text/plain": [
       "              UTC_timestamp  frequency_Hz\n",
       "0 2016-03-08 00:00:48+00:00      50.06573\n",
       "1 2016-03-08 00:00:49+00:00      50.07156\n",
       "2 2016-03-08 00:00:50+00:00      50.08883\n",
       "3 2016-03-08 00:00:51+00:00      50.09247\n",
       "4 2016-03-08 00:00:52+00:00      50.06212"
      ]
     },
     "execution_count": 12,
     "metadata": {},
     "output_type": "execute_result"
    }
   ],
   "source": [
    "df_freq.head()"
   ]
  },
  {
   "cell_type": "markdown",
   "metadata": {},
   "source": [
    "<br>\n",
    "\n",
    "### Combining Read In & Formatting"
   ]
  },
  {
   "cell_type": "code",
   "execution_count": 22,
   "metadata": {},
   "outputs": [
    {
     "name": "stdout",
     "output_type": "stream",
     "text": [
      "Wall time: 33min 2s\n"
     ]
    }
   ],
   "source": [
    "%%time\n",
    "\n",
    "def read_n_format_file(filename):\n",
    "    ## Reading in Data\n",
    "    df_freq = read_in(filename)\n",
    "\n",
    "    ## Converting UNIX Timestamp to UTC\n",
    "    df_freq['UTC_timestamp'] = df_freq.UTC_timestamp.apply(lambda ts: pd.to_datetime(datetime.utcfromtimestamp(ts)))\n",
    "    df_freq['UTC_timestamp'] = pd.to_datetime(df_freq['UTC_timestamp'])\n",
    "\n",
    "    ## Assigning & Converting Timezones\n",
    "    measurement_tz = pytz.timezone('UTC')\n",
    "    island_tz = pytz.timezone('Atlantic/Canary')\n",
    "    \n",
    "    df_freq['UTC_timestamp'] = df_freq['UTC_timestamp'].apply(lambda datetime: measurement_tz.localize(datetime))\n",
    "    df_freq['UTC_timestamp'] = df_freq['UTC_timestamp'].apply(lambda datetime: datetime.astimezone(island_tz))\n",
    "    \n",
    "    return df_freq\n",
    "\n",
    "def read_n_format_all():\n",
    "    filenames = os.listdir('data/frequency') \n",
    "    df_freq = pd.DataFrame()\n",
    "    \n",
    "    for filename in filenames:\n",
    "        df_file_freqs = read_n_format_file(filename)\n",
    "        df_freq = df_freq.append(df_file_freqs)\n",
    "        \n",
    "    return df_freq\n",
    "\n",
    "format_data = False\n",
    "\n",
    "if format_data:\n",
    "    df_freq = read_n_format_all()\n",
    "    df_freq.to_csv('data/freq.csv', index=False)\n",
    "elif format_data == False:\n",
    "    df_freq = pd.read_csv('data/freq.csv')"
   ]
  },
  {
   "cell_type": "code",
   "execution_count": 27,
   "metadata": {},
   "outputs": [
    {
     "name": "stdout",
     "output_type": "stream",
     "text": [
      "(25581543, 2)\n"
     ]
    },
    {
     "data": {
      "text/html": [
       "<div>\n",
       "<style scoped>\n",
       "    .dataframe tbody tr th:only-of-type {\n",
       "        vertical-align: middle;\n",
       "    }\n",
       "\n",
       "    .dataframe tbody tr th {\n",
       "        vertical-align: top;\n",
       "    }\n",
       "\n",
       "    .dataframe thead th {\n",
       "        text-align: right;\n",
       "    }\n",
       "</style>\n",
       "<table border=\"1\" class=\"dataframe\">\n",
       "  <thead>\n",
       "    <tr style=\"text-align: right;\">\n",
       "      <th></th>\n",
       "      <th>UTC_timestamp</th>\n",
       "      <th>frequency_Hz</th>\n",
       "    </tr>\n",
       "  </thead>\n",
       "  <tbody>\n",
       "    <tr>\n",
       "      <th>0</th>\n",
       "      <td>2016-03-08 00:00:48.161000+00:00</td>\n",
       "      <td>50.06573</td>\n",
       "    </tr>\n",
       "    <tr>\n",
       "      <th>1</th>\n",
       "      <td>2016-03-08 00:00:49.160000+00:00</td>\n",
       "      <td>50.07156</td>\n",
       "    </tr>\n",
       "    <tr>\n",
       "      <th>2</th>\n",
       "      <td>2016-03-08 00:00:50.158000+00:00</td>\n",
       "      <td>50.08883</td>\n",
       "    </tr>\n",
       "    <tr>\n",
       "      <th>3</th>\n",
       "      <td>2016-03-08 00:00:51.156000+00:00</td>\n",
       "      <td>50.09247</td>\n",
       "    </tr>\n",
       "    <tr>\n",
       "      <th>4</th>\n",
       "      <td>2016-03-08 00:00:52.155000+00:00</td>\n",
       "      <td>50.06212</td>\n",
       "    </tr>\n",
       "  </tbody>\n",
       "</table>\n",
       "</div>"
      ],
      "text/plain": [
       "                     UTC_timestamp  frequency_Hz\n",
       "0 2016-03-08 00:00:48.161000+00:00      50.06573\n",
       "1 2016-03-08 00:00:49.160000+00:00      50.07156\n",
       "2 2016-03-08 00:00:50.158000+00:00      50.08883\n",
       "3 2016-03-08 00:00:51.156000+00:00      50.09247\n",
       "4 2016-03-08 00:00:52.155000+00:00      50.06212"
      ]
     },
     "execution_count": 27,
     "metadata": {},
     "output_type": "execute_result"
    }
   ],
   "source": [
    "print(df_freq.shape)\n",
    "df_freq.head()"
   ]
  },
  {
   "cell_type": "markdown",
   "metadata": {},
   "source": [
    "<br>\n",
    "\n",
    "### Visualising Frequency Data"
   ]
  },
  {
   "cell_type": "code",
   "execution_count": 31,
   "metadata": {},
   "outputs": [
    {
     "data": {
      "image/png": "[encoded data removed]",
      "text/plain": [
       "<Figure size 1500x1000 with 1 Axes>"
      ]
     },
     "metadata": {},
     "output_type": "display_data"
    }
   ],
   "source": [
    "s_freq = df_freq.frequency_Hz\n",
    "s_freq = s_freq[(s_freq>49.25) & (s_freq<50.75)]\n",
    "\n",
    "## Plotting\n",
    "fig = plt.figure(dpi=250)\n",
    "ax = plt.subplot()\n",
    "\n",
    "sns.distplot(s_freq, ax=ax, bins=100)\n",
    "\n",
    "plt.xlim(49.5, 50.5)\n",
    "\n",
    "plt.xlabel('Frequency (Hz)')\n",
    "plt.ylabel('Frequency Density')\n",
    "\n",
    "ax.spines['right'].set_visible(False)\n",
    "ax.spines['top'].set_visible(False)"
   ]
  },
  {
   "cell_type": "code",
   "execution_count": 70,
   "metadata": {},
   "outputs": [
    {
     "data": {
      "image/png": "[encoded data removed]",
      "text/plain": [
       "<Figure size 1500x1000 with 1 Axes>"
      ]
     },
     "metadata": {},
     "output_type": "display_data"
    }
   ],
   "source": [
    "s_steps = df_freq.UTC_timestamp - df_freq.UTC_timestamp.shift(1)\n",
    "s_steps = s_steps.dt.total_seconds().dropna()\n",
    "s_steps = s_steps[(s_steps<1.005) & (s_steps>0.995)]\n",
    "\n",
    "## Plotting\n",
    "fig = plt.figure(dpi=250)\n",
    "ax = plt.subplot()\n",
    "\n",
    "sns.distplot(s_steps, ax=ax)\n",
    "\n",
    "plt.xlabel('Measurement Time Step (s)')\n",
    "plt.ylabel('Frequency Density')\n",
    "\n",
    "ax.spines['right'].set_visible(False)\n",
    "ax.spines['top'].set_visible(False)"
   ]
  },
  {
   "cell_type": "code",
   "execution_count": 77,
   "metadata": {},
   "outputs": [
    {
     "name": "stdout",
     "output_type": "stream",
     "text": [
      "Percentage of time steps around 1s: 98.54%\n"
     ]
    }
   ],
   "source": [
    "s_steps = df_freq.UTC_timestamp - df_freq.UTC_timestamp.shift(1)\n",
    "s_steps = s_steps.dt.total_seconds().dropna()\n",
    "\n",
    "total_pct_1s = 100*s_steps[(s_steps<1.005) & (s_steps>0.995)].shape[0]/s_steps.shape[0]\n",
    "print(f'Percentage of time steps around 1s: {round(total_pct_1s, 2)}%')"
   ]
  },
  {
   "cell_type": "code",
   "execution_count": 79,
   "metadata": {},
   "outputs": [
    {
     "data": {
      "text/plain": [
       "1114    1.059\n",
       "2916    1.060\n",
       "4718    1.060\n",
       "6520    1.060\n",
       "8322    1.060\n",
       "Name: UTC_timestamp, dtype: float64"
      ]
     },
     "execution_count": 79,
     "metadata": {},
     "output_type": "execute_result"
    }
   ],
   "source": [
    "s_steps = df_freq.UTC_timestamp - df_freq.UTC_timestamp.shift(1)\n",
    "s_steps = s_steps.dt.total_seconds().dropna()\n",
    "\n",
    "s_outliers = s_steps[~((s_steps<1.005) & (s_steps>0.995))]\n",
    "s_outliers.head()"
   ]
  },
  {
   "cell_type": "code",
   "execution_count": null,
   "metadata": {},
   "outputs": [],
   "source": [
    "s_outliers"
   ]
  },
  {
   "cell_type": "code",
   "execution_count": null,
   "metadata": {},
   "outputs": [],
   "source": []
  },
  {
   "cell_type": "code",
   "execution_count": null,
   "metadata": {},
   "outputs": [],
   "source": []
  },
  {
   "cell_type": "code",
   "execution_count": null,
   "metadata": {},
   "outputs": [],
   "source": []
  },
  {
   "cell_type": "code",
   "execution_count": null,
   "metadata": {},
   "outputs": [],
   "source": []
  }
 ],
 "metadata": {
  "kernelspec": {
   "display_name": "Python 3",
   "language": "python",
   "name": "python3"
  },
  "language_info": {
   "codemirror_mode": {
    "name": "ipython",
    "version": 3
   },
   "file_extension": ".py",
   "mimetype": "text/x-python",
   "name": "python",
   "nbconvert_exporter": "python",
   "pygments_lexer": "ipython3",
   "version": "3.6.5"
  }
 },
 "nbformat": 4,
 "nbformat_minor": 2
}
