{
 "cells": [
  {
   "cell_type": "code",
   "execution_count": 1,
   "metadata": {},
   "outputs": [],
   "source": [
    "import pandas as pd\n",
    "import numpy as np\n",
    "\n",
    "import seaborn as sns\n",
    "import matplotlib.pyplot as plt\n",
    "from mpl_toolkits.basemap import Basemap"
   ]
  },
  {
   "cell_type": "code",
   "execution_count": 2,
   "metadata": {},
   "outputs": [],
   "source": [
    "# 27.814177, -17.885174 <- Airport\n",
    "# 27.794753, -17.909258 <- Turbines"
   ]
  },
  {
   "cell_type": "code",
   "execution_count": null,
   "metadata": {},
   "outputs": [],
   "source": [
    "long = -18.03\n",
    "lat = 27.729\n",
    "\n",
    "corner_dict = {\n",
    "    'llcrnrlon' : max(long - 0.135, -180),\n",
    "    'llcrnrlat' : max(lat - 0.1, -90),\n",
    "    'urcrnrlon' : min(long + 0.16, 180),\n",
    "    'urcrnrlat' : min(lat + 0.135, 90),\n",
    "}\n",
    "\n",
    "def plot_map(corner_dict, service='World_Imagery'): #World_Imagery, World_Topo_Map\n",
    "    dpi=1500\n",
    "    \n",
    "    ## Initialising plot\n",
    "    fig = plt.figure(figsize=(15, 15), dpi=dpi)\n",
    "    ax = plt.subplot()\n",
    "\n",
    "    ## Adding Baselayer and Image\n",
    "    m = Basemap(llcrnrlon=corner_dict['llcrnrlon'], llcrnrlat=corner_dict['llcrnrlat'], \n",
    "                urcrnrlon=corner_dict['urcrnrlon'], urcrnrlat=corner_dict['urcrnrlat'],\n",
    "                resolution='c', ax=ax)\n",
    "\n",
    "    m.arcgisimage(service=service, xpixels=750, dpi=dpi)\n",
    "    \n",
    "    plt.scatter([-17.909258, -17.885174], [27.794753, 27.814177], color='orange', edgecolors='k', s=150)\n",
    "\n",
    "    ## Appearance\n",
    "    plt.savefig('img/GIS_map.png', dpi=dpi)\n",
    "    \n",
    "plot_map(corner_dict)"
   ]
  },
  {
   "cell_type": "code",
   "execution_count": null,
   "metadata": {},
   "outputs": [],
   "source": [
    "df_weather = pd.read_csv('data/weather.csv', parse_dates=['time'])\n",
    "#df_weather['temp'] = df_weather['temp'].apply(lambda x: int((x-32) * 5/9))\n",
    "df_weather.head()"
   ]
  },
  {
   "cell_type": "code",
   "execution_count": null,
   "metadata": {},
   "outputs": [],
   "source": []
  },
  {
   "cell_type": "code",
   "execution_count": null,
   "metadata": {},
   "outputs": [],
   "source": []
  },
  {
   "cell_type": "code",
   "execution_count": null,
   "metadata": {},
   "outputs": [],
   "source": []
  },
  {
   "cell_type": "code",
   "execution_count": null,
   "metadata": {},
   "outputs": [],
   "source": []
  }
 ],
 "metadata": {
  "kernelspec": {
   "display_name": "Python 3",
   "language": "python",
   "name": "python3"
  },
  "language_info": {
   "codemirror_mode": {
    "name": "ipython",
    "version": 3
   },
   "file_extension": ".py",
   "mimetype": "text/x-python",
   "name": "python",
   "nbconvert_exporter": "python",
   "pygments_lexer": "ipython3",
   "version": "3.6.5"
  }
 },
 "nbformat": 4,
 "nbformat_minor": 2
}
