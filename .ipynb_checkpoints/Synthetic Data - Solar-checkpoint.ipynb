{
 "cells": [
  {
   "cell_type": "code",
   "execution_count": 1,
   "metadata": {},
   "outputs": [],
   "source": [
    "import pandas as pd\n",
    "import numpy as np\n",
    "\n",
    "from datetime import datetime, time, date\n",
    "\n",
    "import matplotlib.pyplot as plt\n",
    "import seaborn as sns\n",
    "\n",
    "import random"
   ]
  },
  {
   "cell_type": "code",
   "execution_count": 2,
   "metadata": {},
   "outputs": [
    {
     "data": {
      "text/html": [
       "<div>\n",
       "<style scoped>\n",
       "    .dataframe tbody tr th:only-of-type {\n",
       "        vertical-align: middle;\n",
       "    }\n",
       "\n",
       "    .dataframe tbody tr th {\n",
       "        vertical-align: top;\n",
       "    }\n",
       "\n",
       "    .dataframe thead th {\n",
       "        text-align: right;\n",
       "    }\n",
       "</style>\n",
       "<table border=\"1\" class=\"dataframe\">\n",
       "  <thead>\n",
       "    <tr style=\"text-align: right;\">\n",
       "      <th></th>\n",
       "      <th># Month</th>\n",
       "      <th>Day</th>\n",
       "      <th>Hour</th>\n",
       "      <th>G irradiation</th>\n",
       "      <th>Temperature</th>\n",
       "    </tr>\n",
       "  </thead>\n",
       "  <tbody>\n",
       "    <tr>\n",
       "      <th>0</th>\n",
       "      <td>1</td>\n",
       "      <td>1</td>\n",
       "      <td>1</td>\n",
       "      <td>0</td>\n",
       "      <td>17.5</td>\n",
       "    </tr>\n",
       "    <tr>\n",
       "      <th>1</th>\n",
       "      <td>1</td>\n",
       "      <td>1</td>\n",
       "      <td>2</td>\n",
       "      <td>0</td>\n",
       "      <td>17.3</td>\n",
       "    </tr>\n",
       "    <tr>\n",
       "      <th>2</th>\n",
       "      <td>1</td>\n",
       "      <td>1</td>\n",
       "      <td>3</td>\n",
       "      <td>0</td>\n",
       "      <td>17.0</td>\n",
       "    </tr>\n",
       "    <tr>\n",
       "      <th>3</th>\n",
       "      <td>1</td>\n",
       "      <td>1</td>\n",
       "      <td>4</td>\n",
       "      <td>0</td>\n",
       "      <td>16.8</td>\n",
       "    </tr>\n",
       "    <tr>\n",
       "      <th>4</th>\n",
       "      <td>1</td>\n",
       "      <td>1</td>\n",
       "      <td>5</td>\n",
       "      <td>0</td>\n",
       "      <td>16.6</td>\n",
       "    </tr>\n",
       "  </tbody>\n",
       "</table>\n",
       "</div>"
      ],
      "text/plain": [
       "   # Month  Day  Hour  G irradiation  Temperature\n",
       "0        1    1     1              0         17.5\n",
       "1        1    1     2              0         17.3\n",
       "2        1    1     3              0         17.0\n",
       "3        1    1     4              0         16.8\n",
       "4        1    1     5              0         16.6"
      ]
     },
     "execution_count": 2,
     "metadata": {},
     "output_type": "execute_result"
    }
   ],
   "source": [
    "df_faro_raw = pd.read_csv('data/solar_faro.csv', sep=';', index_col=False)\n",
    "df_hierro_raw = pd.read_csv('data/solar_el_hierro.csv', sep=';', index_col=False)\n",
    "\n",
    "df_faro_raw.head()"
   ]
  },
  {
   "cell_type": "code",
   "execution_count": 3,
   "metadata": {},
   "outputs": [
    {
     "data": {
      "text/plain": [
       "# Month            int64\n",
       "Day                int64\n",
       "Hour               int64\n",
       "G irradiation      int64\n",
       "Temperature      float64\n",
       "dtype: object"
      ]
     },
     "execution_count": 3,
     "metadata": {},
     "output_type": "execute_result"
    }
   ],
   "source": [
    "df_faro_raw.dtypes"
   ]
  },
  {
   "cell_type": "code",
   "execution_count": 4,
   "metadata": {},
   "outputs": [
    {
     "data": {
      "text/html": [
       "<div>\n",
       "<style scoped>\n",
       "    .dataframe tbody tr th:only-of-type {\n",
       "        vertical-align: middle;\n",
       "    }\n",
       "\n",
       "    .dataframe tbody tr th {\n",
       "        vertical-align: top;\n",
       "    }\n",
       "\n",
       "    .dataframe thead th {\n",
       "        text-align: right;\n",
       "    }\n",
       "</style>\n",
       "<table border=\"1\" class=\"dataframe\">\n",
       "  <thead>\n",
       "    <tr style=\"text-align: right;\">\n",
       "      <th></th>\n",
       "      <th>irradiation</th>\n",
       "      <th>temperature</th>\n",
       "    </tr>\n",
       "    <tr>\n",
       "      <th>datetime</th>\n",
       "      <th></th>\n",
       "      <th></th>\n",
       "    </tr>\n",
       "  </thead>\n",
       "  <tbody>\n",
       "    <tr>\n",
       "      <th>2016-01-01 00:00:00</th>\n",
       "      <td>0</td>\n",
       "      <td>17.5</td>\n",
       "    </tr>\n",
       "    <tr>\n",
       "      <th>2016-01-01 01:00:00</th>\n",
       "      <td>0</td>\n",
       "      <td>17.3</td>\n",
       "    </tr>\n",
       "    <tr>\n",
       "      <th>2016-01-01 02:00:00</th>\n",
       "      <td>0</td>\n",
       "      <td>17.0</td>\n",
       "    </tr>\n",
       "    <tr>\n",
       "      <th>2016-01-01 03:00:00</th>\n",
       "      <td>0</td>\n",
       "      <td>16.8</td>\n",
       "    </tr>\n",
       "    <tr>\n",
       "      <th>2016-01-01 04:00:00</th>\n",
       "      <td>0</td>\n",
       "      <td>16.6</td>\n",
       "    </tr>\n",
       "  </tbody>\n",
       "</table>\n",
       "</div>"
      ],
      "text/plain": [
       "                     irradiation  temperature\n",
       "datetime                                     \n",
       "2016-01-01 00:00:00            0         17.5\n",
       "2016-01-01 01:00:00            0         17.3\n",
       "2016-01-01 02:00:00            0         17.0\n",
       "2016-01-01 03:00:00            0         16.8\n",
       "2016-01-01 04:00:00            0         16.6"
      ]
     },
     "execution_count": 4,
     "metadata": {},
     "output_type": "execute_result"
    }
   ],
   "source": [
    "## Helper Functions\n",
    "\n",
    "def create_datetimes_s(df):\n",
    "    year = '2016'\n",
    "    s_datetimes = df['Day'].astype(str) + '-' + df['# Month'].astype(str) + '-' + year + ' ' + (df['Hour']-1).astype(str) + ':00'\n",
    "    s_datetimes = pd.to_datetime(s_datetimes)\n",
    "    return s_datetimes\n",
    "\n",
    "def clean_solar(df_raw):\n",
    "    df = (df_raw\n",
    "           .copy()\n",
    "           .assign(datetime=create_datetimes_s(df_raw))\n",
    "           .set_index('datetime')\n",
    "           .drop(columns=['# Month', 'Day', 'Hour'])\n",
    "           .rename(columns={'G irradiation':'irradiation', 'Temperature':'temperature'})\n",
    "          )\n",
    "    return df\n",
    "\n",
    "df_faro = clean_solar(df_faro_raw)\n",
    "df_hierro = clean_solar(df_hierro_raw)\n",
    "df_faro.head()"
   ]
  },
  {
   "cell_type": "code",
   "execution_count": 5,
   "metadata": {},
   "outputs": [
    {
     "data": {
      "image/png": "[encoded data removed]",
      "text/plain": [
       "<Figure size 432x288 with 1 Axes>"
      ]
     },
     "metadata": {},
     "output_type": "display_data"
    },
    {
     "data": {
      "image/png": "[encoded data removed]",
      "text/plain": [
       "<Figure size 432x288 with 1 Axes>"
      ]
     },
     "metadata": {},
     "output_type": "display_data"
    },
    {
     "data": {
      "image/png": "[encoded data removed]",
      "text/plain": [
       "<Figure size 432x288 with 1 Axes>"
      ]
     },
     "metadata": {},
     "output_type": "display_data"
    },
    {
     "data": {
      "image/png": "[encoded data removed]",
      "text/plain": [
       "<Figure size 432x288 with 1 Axes>"
      ]
     },
     "metadata": {},
     "output_type": "display_data"
    },
    {
     "data": {
      "image/png": "[encoded data removed]",
      "text/plain": [
       "<Figure size 432x288 with 1 Axes>"
      ]
     },
     "metadata": {},
     "output_type": "display_data"
    },
    {
     "data": {
      "image/png": "[encoded data removed]",
      "text/plain": [
       "<Figure size 432x288 with 1 Axes>"
      ]
     },
     "metadata": {},
     "output_type": "display_data"
    }
   ],
   "source": [
    "def plot_annual_and_day(df, title=''):\n",
    "    plt.figure()\n",
    "    df = df[df.irradiation>=0]\n",
    "    df.irradiation.plot(title=f'{title} - Annual')\n",
    "    \n",
    "    plt.figure()\n",
    "    df.groupby(df.index.hour).mean().irradiation.plot(title=f'{title} - Daily')\n",
    "    \n",
    "    plt.figure()\n",
    "    df.groupby(df.index.month).mean().irradiation.plot(kind='bar', color='blue', title=f'{title} - Monthly')\n",
    "\n",
    "plot_annual_and_day(df_faro, title='Faro')\n",
    "plot_annual_and_day(df_hierro, title='El Hierro')"
   ]
  },
  {
   "cell_type": "code",
   "execution_count": 6,
   "metadata": {},
   "outputs": [
    {
     "name": "stdout",
     "output_type": "stream",
     "text": [
      "Solar scaling factor: 1.23\n"
     ]
    }
   ],
   "source": [
    "scaling_factor = df_hierro.irradiation.mean() / df_faro.irradiation.mean()\n",
    "print(f'Solar scaling factor: {round(scaling_factor, 2)}')"
   ]
  },
  {
   "cell_type": "markdown",
   "metadata": {},
   "source": [
    "<br>\n",
    "\n",
    "### Cleaning & Scaling Sunlab Data"
   ]
  },
  {
   "cell_type": "code",
   "execution_count": 29,
   "metadata": {},
   "outputs": [
    {
     "data": {
      "text/html": [
       "<div>\n",
       "<style scoped>\n",
       "    .dataframe tbody tr th:only-of-type {\n",
       "        vertical-align: middle;\n",
       "    }\n",
       "\n",
       "    .dataframe tbody tr th {\n",
       "        vertical-align: top;\n",
       "    }\n",
       "\n",
       "    .dataframe thead th {\n",
       "        text-align: right;\n",
       "    }\n",
       "</style>\n",
       "<table border=\"1\" class=\"dataframe\">\n",
       "  <thead>\n",
       "    <tr style=\"text-align: right;\">\n",
       "      <th></th>\n",
       "      <th>A_Horizontal - Current DC [A]</th>\n",
       "      <th>A_Horizontal - Power DC [W]</th>\n",
       "      <th>A_Horizontal - Temperature [ºC]</th>\n",
       "      <th>A_Horizontal - Voltage DC [V]</th>\n",
       "      <th>A_Optimal - Current DC [A]</th>\n",
       "      <th>A_Optimal - Power DC [W]</th>\n",
       "      <th>A_Optimal - Temperature [ºC]</th>\n",
       "      <th>A_Optimal - Voltage DC [V]</th>\n",
       "      <th>A_Vertical - Current DC [A]</th>\n",
       "      <th>A_Vertical - Power DC [W]</th>\n",
       "      <th>...</th>\n",
       "      <th>B_Horizontal - Temperature [ºC]</th>\n",
       "      <th>B_Horizontal - Voltage DC [V]</th>\n",
       "      <th>B_Optimal - Current DC [A]</th>\n",
       "      <th>B_Optimal - Power DC [W]</th>\n",
       "      <th>B_Optimal - Temperature [ºC]</th>\n",
       "      <th>B_Optimal - Voltage DC [V]</th>\n",
       "      <th>B_Vertical - Current DC [A]</th>\n",
       "      <th>B_Vertical - Power DC [W]</th>\n",
       "      <th>B_Vertical - Temperature [ºC]</th>\n",
       "      <th>B_Vertical - Voltage DC [V]</th>\n",
       "    </tr>\n",
       "  </thead>\n",
       "  <tbody>\n",
       "    <tr>\n",
       "      <th>2014-01-01 00:00:00</th>\n",
       "      <td>NaN</td>\n",
       "      <td>NaN</td>\n",
       "      <td>NaN</td>\n",
       "      <td>NaN</td>\n",
       "      <td>NaN</td>\n",
       "      <td>NaN</td>\n",
       "      <td>NaN</td>\n",
       "      <td>NaN</td>\n",
       "      <td>NaN</td>\n",
       "      <td>NaN</td>\n",
       "      <td>...</td>\n",
       "      <td>NaN</td>\n",
       "      <td>NaN</td>\n",
       "      <td>NaN</td>\n",
       "      <td>NaN</td>\n",
       "      <td>NaN</td>\n",
       "      <td>NaN</td>\n",
       "      <td>NaN</td>\n",
       "      <td>NaN</td>\n",
       "      <td>NaN</td>\n",
       "      <td>NaN</td>\n",
       "    </tr>\n",
       "    <tr>\n",
       "      <th>2014-01-01 00:01:00</th>\n",
       "      <td>NaN</td>\n",
       "      <td>NaN</td>\n",
       "      <td>NaN</td>\n",
       "      <td>NaN</td>\n",
       "      <td>NaN</td>\n",
       "      <td>NaN</td>\n",
       "      <td>NaN</td>\n",
       "      <td>NaN</td>\n",
       "      <td>NaN</td>\n",
       "      <td>NaN</td>\n",
       "      <td>...</td>\n",
       "      <td>NaN</td>\n",
       "      <td>NaN</td>\n",
       "      <td>NaN</td>\n",
       "      <td>NaN</td>\n",
       "      <td>NaN</td>\n",
       "      <td>NaN</td>\n",
       "      <td>NaN</td>\n",
       "      <td>NaN</td>\n",
       "      <td>NaN</td>\n",
       "      <td>NaN</td>\n",
       "    </tr>\n",
       "    <tr>\n",
       "      <th>2014-01-01 00:02:00</th>\n",
       "      <td>NaN</td>\n",
       "      <td>NaN</td>\n",
       "      <td>NaN</td>\n",
       "      <td>NaN</td>\n",
       "      <td>NaN</td>\n",
       "      <td>NaN</td>\n",
       "      <td>NaN</td>\n",
       "      <td>NaN</td>\n",
       "      <td>NaN</td>\n",
       "      <td>NaN</td>\n",
       "      <td>...</td>\n",
       "      <td>NaN</td>\n",
       "      <td>NaN</td>\n",
       "      <td>NaN</td>\n",
       "      <td>NaN</td>\n",
       "      <td>NaN</td>\n",
       "      <td>NaN</td>\n",
       "      <td>NaN</td>\n",
       "      <td>NaN</td>\n",
       "      <td>NaN</td>\n",
       "      <td>NaN</td>\n",
       "    </tr>\n",
       "    <tr>\n",
       "      <th>2014-01-01 00:03:00</th>\n",
       "      <td>NaN</td>\n",
       "      <td>NaN</td>\n",
       "      <td>NaN</td>\n",
       "      <td>NaN</td>\n",
       "      <td>NaN</td>\n",
       "      <td>NaN</td>\n",
       "      <td>NaN</td>\n",
       "      <td>NaN</td>\n",
       "      <td>NaN</td>\n",
       "      <td>NaN</td>\n",
       "      <td>...</td>\n",
       "      <td>NaN</td>\n",
       "      <td>NaN</td>\n",
       "      <td>NaN</td>\n",
       "      <td>NaN</td>\n",
       "      <td>NaN</td>\n",
       "      <td>NaN</td>\n",
       "      <td>NaN</td>\n",
       "      <td>NaN</td>\n",
       "      <td>NaN</td>\n",
       "      <td>NaN</td>\n",
       "    </tr>\n",
       "    <tr>\n",
       "      <th>2014-01-01 00:04:00</th>\n",
       "      <td>NaN</td>\n",
       "      <td>NaN</td>\n",
       "      <td>NaN</td>\n",
       "      <td>NaN</td>\n",
       "      <td>NaN</td>\n",
       "      <td>NaN</td>\n",
       "      <td>NaN</td>\n",
       "      <td>NaN</td>\n",
       "      <td>NaN</td>\n",
       "      <td>NaN</td>\n",
       "      <td>...</td>\n",
       "      <td>NaN</td>\n",
       "      <td>NaN</td>\n",
       "      <td>NaN</td>\n",
       "      <td>NaN</td>\n",
       "      <td>NaN</td>\n",
       "      <td>NaN</td>\n",
       "      <td>NaN</td>\n",
       "      <td>NaN</td>\n",
       "      <td>NaN</td>\n",
       "      <td>NaN</td>\n",
       "    </tr>\n",
       "  </tbody>\n",
       "</table>\n",
       "<p>5 rows × 24 columns</p>\n",
       "</div>"
      ],
      "text/plain": [
       "                     A_Horizontal - Current DC [A]  \\\n",
       "2014-01-01 00:00:00                            NaN   \n",
       "2014-01-01 00:01:00                            NaN   \n",
       "2014-01-01 00:02:00                            NaN   \n",
       "2014-01-01 00:03:00                            NaN   \n",
       "2014-01-01 00:04:00                            NaN   \n",
       "\n",
       "                     A_Horizontal - Power DC [W]  \\\n",
       "2014-01-01 00:00:00                          NaN   \n",
       "2014-01-01 00:01:00                          NaN   \n",
       "2014-01-01 00:02:00                          NaN   \n",
       "2014-01-01 00:03:00                          NaN   \n",
       "2014-01-01 00:04:00                          NaN   \n",
       "\n",
       "                     A_Horizontal - Temperature [ºC]  \\\n",
       "2014-01-01 00:00:00                              NaN   \n",
       "2014-01-01 00:01:00                              NaN   \n",
       "2014-01-01 00:02:00                              NaN   \n",
       "2014-01-01 00:03:00                              NaN   \n",
       "2014-01-01 00:04:00                              NaN   \n",
       "\n",
       "                     A_Horizontal - Voltage DC [V]  \\\n",
       "2014-01-01 00:00:00                            NaN   \n",
       "2014-01-01 00:01:00                            NaN   \n",
       "2014-01-01 00:02:00                            NaN   \n",
       "2014-01-01 00:03:00                            NaN   \n",
       "2014-01-01 00:04:00                            NaN   \n",
       "\n",
       "                     A_Optimal - Current DC [A]  A_Optimal - Power DC [W]  \\\n",
       "2014-01-01 00:00:00                         NaN                       NaN   \n",
       "2014-01-01 00:01:00                         NaN                       NaN   \n",
       "2014-01-01 00:02:00                         NaN                       NaN   \n",
       "2014-01-01 00:03:00                         NaN                       NaN   \n",
       "2014-01-01 00:04:00                         NaN                       NaN   \n",
       "\n",
       "                     A_Optimal - Temperature [ºC]  A_Optimal - Voltage DC [V]  \\\n",
       "2014-01-01 00:00:00                           NaN                         NaN   \n",
       "2014-01-01 00:01:00                           NaN                         NaN   \n",
       "2014-01-01 00:02:00                           NaN                         NaN   \n",
       "2014-01-01 00:03:00                           NaN                         NaN   \n",
       "2014-01-01 00:04:00                           NaN                         NaN   \n",
       "\n",
       "                     A_Vertical - Current DC [A]  A_Vertical - Power DC [W]  \\\n",
       "2014-01-01 00:00:00                          NaN                        NaN   \n",
       "2014-01-01 00:01:00                          NaN                        NaN   \n",
       "2014-01-01 00:02:00                          NaN                        NaN   \n",
       "2014-01-01 00:03:00                          NaN                        NaN   \n",
       "2014-01-01 00:04:00                          NaN                        NaN   \n",
       "\n",
       "                                ...               \\\n",
       "2014-01-01 00:00:00             ...                \n",
       "2014-01-01 00:01:00             ...                \n",
       "2014-01-01 00:02:00             ...                \n",
       "2014-01-01 00:03:00             ...                \n",
       "2014-01-01 00:04:00             ...                \n",
       "\n",
       "                     B_Horizontal - Temperature [ºC]  \\\n",
       "2014-01-01 00:00:00                              NaN   \n",
       "2014-01-01 00:01:00                              NaN   \n",
       "2014-01-01 00:02:00                              NaN   \n",
       "2014-01-01 00:03:00                              NaN   \n",
       "2014-01-01 00:04:00                              NaN   \n",
       "\n",
       "                     B_Horizontal - Voltage DC [V]  \\\n",
       "2014-01-01 00:00:00                            NaN   \n",
       "2014-01-01 00:01:00                            NaN   \n",
       "2014-01-01 00:02:00                            NaN   \n",
       "2014-01-01 00:03:00                            NaN   \n",
       "2014-01-01 00:04:00                            NaN   \n",
       "\n",
       "                     B_Optimal - Current DC [A]  B_Optimal - Power DC [W]  \\\n",
       "2014-01-01 00:00:00                         NaN                       NaN   \n",
       "2014-01-01 00:01:00                         NaN                       NaN   \n",
       "2014-01-01 00:02:00                         NaN                       NaN   \n",
       "2014-01-01 00:03:00                         NaN                       NaN   \n",
       "2014-01-01 00:04:00                         NaN                       NaN   \n",
       "\n",
       "                     B_Optimal - Temperature [ºC]  B_Optimal - Voltage DC [V]  \\\n",
       "2014-01-01 00:00:00                           NaN                         NaN   \n",
       "2014-01-01 00:01:00                           NaN                         NaN   \n",
       "2014-01-01 00:02:00                           NaN                         NaN   \n",
       "2014-01-01 00:03:00                           NaN                         NaN   \n",
       "2014-01-01 00:04:00                           NaN                         NaN   \n",
       "\n",
       "                     B_Vertical - Current DC [A]  B_Vertical - Power DC [W]  \\\n",
       "2014-01-01 00:00:00                          NaN                        NaN   \n",
       "2014-01-01 00:01:00                          NaN                        NaN   \n",
       "2014-01-01 00:02:00                          NaN                        NaN   \n",
       "2014-01-01 00:03:00                          NaN                        NaN   \n",
       "2014-01-01 00:04:00                          NaN                        NaN   \n",
       "\n",
       "                     B_Vertical - Temperature [ºC]  \\\n",
       "2014-01-01 00:00:00                            NaN   \n",
       "2014-01-01 00:01:00                            NaN   \n",
       "2014-01-01 00:02:00                            NaN   \n",
       "2014-01-01 00:03:00                            NaN   \n",
       "2014-01-01 00:04:00                            NaN   \n",
       "\n",
       "                     B_Vertical - Voltage DC [V]  \n",
       "2014-01-01 00:00:00                          NaN  \n",
       "2014-01-01 00:01:00                          NaN  \n",
       "2014-01-01 00:02:00                          NaN  \n",
       "2014-01-01 00:03:00                          NaN  \n",
       "2014-01-01 00:04:00                          NaN  \n",
       "\n",
       "[5 rows x 24 columns]"
      ]
     },
     "execution_count": 29,
     "metadata": {},
     "output_type": "execute_result"
    }
   ],
   "source": [
    "def read_and_clean_sunlab(measurement):\n",
    "    years = [2014, 2015]#, 2016, 2017]\n",
    "    df_sunlab = pd.DataFrame()\n",
    "\n",
    "    for year in years:\n",
    "        df_sunlab_yr = pd.read_csv(f'data/sunlab-faro-{measurement}-{year}.csv', sep=';', parse_dates=['Datetime'])\n",
    "        df_sunlab_yr = df_sunlab_yr.set_index('Datetime')\n",
    "        \n",
    "        df_sunlab = df_sunlab.append(df_sunlab_yr, sort=True)\n",
    "    \n",
    "    return df_sunlab\n",
    "\n",
    "df_sunlab_pv = read_and_clean_sunlab('pv')\n",
    "df_sunlab_pv = df_sunlab_pv.reindex(pd.date_range('2014-01-01', '2015-12-31', freq='1T'), fill_value=np.nan)\n",
    "\n",
    "df_sunlab_pv.head()"
   ]
  },
  {
   "cell_type": "code",
   "execution_count": 31,
   "metadata": {},
   "outputs": [
    {
     "data": {
      "text/plain": [
       "<matplotlib.axes._subplots.AxesSubplot at 0x19c83b215c0>"
      ]
     },
     "execution_count": 31,
     "metadata": {},
     "output_type": "execute_result"
    },
    {
     "data": {
      "image/png": "[encoded data removed]",
      "text/plain": [
       "<Figure size 432x288 with 1 Axes>"
      ]
     },
     "metadata": {},
     "output_type": "display_data"
    }
   ],
   "source": [
    "df_sunlab_pv.loc[:'2014-01-2']['B_Optimal - Power DC [W]'].plot()"
   ]
  },
  {
   "cell_type": "code",
   "execution_count": 51,
   "metadata": {},
   "outputs": [
    {
     "data": {
      "text/html": [
       "<div>\n",
       "<style scoped>\n",
       "    .dataframe tbody tr th:only-of-type {\n",
       "        vertical-align: middle;\n",
       "    }\n",
       "\n",
       "    .dataframe tbody tr th {\n",
       "        vertical-align: top;\n",
       "    }\n",
       "\n",
       "    .dataframe thead th {\n",
       "        text-align: right;\n",
       "    }\n",
       "</style>\n",
       "<table border=\"1\" class=\"dataframe\">\n",
       "  <thead>\n",
       "    <tr style=\"text-align: right;\">\n",
       "      <th></th>\n",
       "      <th>datetime</th>\n",
       "      <th>solar_W</th>\n",
       "    </tr>\n",
       "  </thead>\n",
       "  <tbody>\n",
       "    <tr>\n",
       "      <th>0</th>\n",
       "      <td>2014-01-01 00:00:00</td>\n",
       "      <td>0.0</td>\n",
       "    </tr>\n",
       "    <tr>\n",
       "      <th>1</th>\n",
       "      <td>2014-01-01 00:10:00</td>\n",
       "      <td>0.0</td>\n",
       "    </tr>\n",
       "    <tr>\n",
       "      <th>2</th>\n",
       "      <td>2014-01-01 00:20:00</td>\n",
       "      <td>0.0</td>\n",
       "    </tr>\n",
       "    <tr>\n",
       "      <th>3</th>\n",
       "      <td>2014-01-01 00:30:00</td>\n",
       "      <td>0.0</td>\n",
       "    </tr>\n",
       "    <tr>\n",
       "      <th>4</th>\n",
       "      <td>2014-01-01 00:40:00</td>\n",
       "      <td>0.0</td>\n",
       "    </tr>\n",
       "  </tbody>\n",
       "</table>\n",
       "</div>"
      ],
      "text/plain": [
       "             datetime  solar_W\n",
       "0 2014-01-01 00:00:00      0.0\n",
       "1 2014-01-01 00:10:00      0.0\n",
       "2 2014-01-01 00:20:00      0.0\n",
       "3 2014-01-01 00:30:00      0.0\n",
       "4 2014-01-01 00:40:00      0.0"
      ]
     },
     "execution_count": 51,
     "metadata": {},
     "output_type": "execute_result"
    }
   ],
   "source": [
    "df_solar = (df_sunlab_pv\n",
    "                  [['A_Optimal - Power DC [W]']]\n",
    "                  .resample('10T')\n",
    "                  .sum()\n",
    "                  .rename(columns={'A_Optimal - Power DC [W]':'solar_W'})\n",
    "                 )\n",
    "\n",
    "df_solar['solar_W'] = df_solar['solar_W']*scaling_factor\n",
    "df_solar.to_csv('data/hierro_solar_gen.csv', index=False)\n",
    "df_solar = df_solar.reset_index().rename(columns={'index':'datetime'})\n",
    "\n",
    "df_solar.head()"
   ]
  },
  {
   "cell_type": "code",
   "execution_count": 52,
   "metadata": {},
   "outputs": [
    {
     "data": {
      "text/plain": [
       "<matplotlib.axes._subplots.AxesSubplot at 0x19c8ab1de80>"
      ]
     },
     "execution_count": 52,
     "metadata": {},
     "output_type": "execute_result"
    },
    {
     "data": {
      "image/png": "[encoded data removed]",
      "text/plain": [
       "<Figure size 432x288 with 1 Axes>"
      ]
     },
     "metadata": {},
     "output_type": "display_data"
    }
   ],
   "source": [
    "df_solar.solar_W.iloc[:24*6].plot()"
   ]
  },
  {
   "cell_type": "code",
   "execution_count": 54,
   "metadata": {},
   "outputs": [
    {
     "data": {
      "text/plain": [
       "<matplotlib.axes._subplots.AxesSubplot at 0x19c8ac69208>"
      ]
     },
     "execution_count": 54,
     "metadata": {},
     "output_type": "execute_result"
    },
    {
     "data": {
      "image/png": "[encoded data removed]",
      "text/plain": [
       "<Figure size 432x288 with 1 Axes>"
      ]
     },
     "metadata": {},
     "output_type": "display_data"
    }
   ],
   "source": [
    "df_solar.groupby(df_solar.datetime.dt.hour).mean().solar_W.plot()"
   ]
  },
  {
   "cell_type": "markdown",
   "metadata": {},
   "source": [
    "<br>\n",
    "\n",
    "### Bootstrapping"
   ]
  },
  {
   "cell_type": "code",
   "execution_count": 55,
   "metadata": {},
   "outputs": [],
   "source": [
    "def generate_fake_datetime(df_month_day, year, month, day):\n",
    "    s_time = df_month_day.datetime.dt.time\n",
    "    df_datetime = pd.DataFrame({'time':s_time})\n",
    "    _date = date(year, month, day)\n",
    "    df_datetime['date'] = _date\n",
    "\n",
    "    df_datetime['datetime'] = pd.to_datetime(df_datetime['date'].astype(str) + ' ' + df_datetime['time'].astype(str))\n",
    "    df_month_day = df_month_day.assign(datetime=df_datetime['datetime'])\n",
    "    \n",
    "    return df_month_day\n",
    "\n",
    "def create_single_month_synth(df_month, uniq_dts, year, month, month_length):\n",
    "    uniq_dts_for_month = uniq_dts.shape[0]\n",
    "\n",
    "    rnd_dts = [] # These are the random dates selected during bootstrapping\n",
    "    df_month_days = pd.DataFrame()\n",
    "\n",
    "    # Randomly selecting dates via bootstrapping d creating synthetic time series\n",
    "    for i in range(month_length):\n",
    "        rnd_dt = uniq_dts[random.randint(0, uniq_dts_for_month-1)]\n",
    "        rnd_dts.append(rnd_dt)\n",
    "        \n",
    "        df_month_day = df_month[df_month.datetime.dt.date==rnd_dt]\n",
    "        \n",
    "        df_month_day = generate_fake_datetime(df_month_day, year, month, i+1)\n",
    "        df_month_days = df_month_days.append(df_month_day)\n",
    "        \n",
    "    return df_month_days"
   ]
  },
  {
   "cell_type": "code",
   "execution_count": 56,
   "metadata": {},
   "outputs": [
    {
     "data": {
      "text/html": [
       "<div>\n",
       "<style scoped>\n",
       "    .dataframe tbody tr th:only-of-type {\n",
       "        vertical-align: middle;\n",
       "    }\n",
       "\n",
       "    .dataframe tbody tr th {\n",
       "        vertical-align: top;\n",
       "    }\n",
       "\n",
       "    .dataframe thead th {\n",
       "        text-align: right;\n",
       "    }\n",
       "</style>\n",
       "<table border=\"1\" class=\"dataframe\">\n",
       "  <thead>\n",
       "    <tr style=\"text-align: right;\">\n",
       "      <th></th>\n",
       "      <th>datetime</th>\n",
       "      <th>solar_W</th>\n",
       "    </tr>\n",
       "  </thead>\n",
       "  <tbody>\n",
       "    <tr>\n",
       "      <th>3600</th>\n",
       "      <td>2021-01-01 00:00:00</td>\n",
       "      <td>0.0</td>\n",
       "    </tr>\n",
       "    <tr>\n",
       "      <th>3601</th>\n",
       "      <td>2021-01-01 00:10:00</td>\n",
       "      <td>0.0</td>\n",
       "    </tr>\n",
       "    <tr>\n",
       "      <th>3602</th>\n",
       "      <td>2021-01-01 00:20:00</td>\n",
       "      <td>0.0</td>\n",
       "    </tr>\n",
       "    <tr>\n",
       "      <th>3603</th>\n",
       "      <td>2021-01-01 00:30:00</td>\n",
       "      <td>0.0</td>\n",
       "    </tr>\n",
       "    <tr>\n",
       "      <th>3604</th>\n",
       "      <td>2021-01-01 00:40:00</td>\n",
       "      <td>0.0</td>\n",
       "    </tr>\n",
       "  </tbody>\n",
       "</table>\n",
       "</div>"
      ],
      "text/plain": [
       "                datetime  solar_W\n",
       "3600 2021-01-01 00:00:00      0.0\n",
       "3601 2021-01-01 00:10:00      0.0\n",
       "3602 2021-01-01 00:20:00      0.0\n",
       "3603 2021-01-01 00:30:00      0.0\n",
       "3604 2021-01-01 00:40:00      0.0"
      ]
     },
     "execution_count": 56,
     "metadata": {},
     "output_type": "execute_result"
    }
   ],
   "source": [
    "months = [1, 2, 3, 4, 5, 6, 7, 8, 9, 10, 11, 12]\n",
    "month_lengths = [31, 28, 31, 30, 31, 30, 31, 31, 30, 31, 30, 31]\n",
    "month_2_month_length = dict(zip(months, month_lengths))\n",
    "year = 2021\n",
    "\n",
    "df_solar_year = pd.DataFrame()\n",
    "\n",
    "for month in months:\n",
    "    df_solar_month = df_solar[df_solar.datetime.dt.month==month]\n",
    "    \n",
    "    uniq_dts = df_solar_month.datetime.dt.date.unique()\n",
    "    month_length = month_2_month_length[month]\n",
    "    \n",
    "    df_solar_month = create_single_month_synth(df_solar_month, uniq_dts, year, month, month_length)\n",
    "    df_solar_year = df_solar_year.append(df_solar_month)\n",
    "    \n",
    "df_solar_year.head()"
   ]
  },
  {
   "cell_type": "code",
   "execution_count": 57,
   "metadata": {},
   "outputs": [
    {
     "data": {
      "image/png": "[encoded data removed]",
      "text/plain": [
       "<Figure size 600x400 with 1 Axes>"
      ]
     },
     "metadata": {},
     "output_type": "display_data"
    }
   ],
   "source": [
    "weeks_in = 20\n",
    "min_idx = (weeks_in*7*6*24)\n",
    "max_idx = (weeks_in*7*6*24) + (6*24*7) - 1\n",
    "\n",
    "min_date = df_solar_year.reset_index().loc[min_idx, 'datetime']\n",
    "max_date = df_solar_year.reset_index().loc[max_idx, 'datetime']\n",
    "\n",
    "## Plotting\n",
    "fig = plt.figure(dpi=100)\n",
    "ax = plt.subplot()\n",
    "\n",
    "(df_solar_year[(df_solar_year.datetime>min_date)&(df_solar_year.datetime<max_date)].set_index('datetime').solar_W/1000).plot(ax=ax)\n",
    "\n",
    "plt.title('Synthetic Data')\n",
    "plt.ylabel('Solar (W)')\n",
    "plt.xlabel('')\n",
    "#plt.ylim(0, 14)\n",
    "\n",
    "ax.spines['right'].set_visible(False)\n",
    "ax.spines['top'].set_visible(False)"
   ]
  },
  {
   "cell_type": "code",
   "execution_count": 58,
   "metadata": {},
   "outputs": [],
   "source": [
    "df_solar_year.to_csv('data/synth_solar.csv', index=False)"
   ]
  },
  {
   "cell_type": "code",
   "execution_count": null,
   "metadata": {},
   "outputs": [],
   "source": []
  },
  {
   "cell_type": "code",
   "execution_count": null,
   "metadata": {},
   "outputs": [],
   "source": []
  },
  {
   "cell_type": "code",
   "execution_count": null,
   "metadata": {},
   "outputs": [],
   "source": []
  }
 ],
 "metadata": {
  "kernelspec": {
   "display_name": "Python 3",
   "language": "python",
   "name": "python3"
  },
  "language_info": {
   "codemirror_mode": {
    "name": "ipython",
    "version": 3
   },
   "file_extension": ".py",
   "mimetype": "text/x-python",
   "name": "python",
   "nbconvert_exporter": "python",
   "pygments_lexer": "ipython3",
   "version": "3.6.5"
  }
 },
 "nbformat": 4,
 "nbformat_minor": 2
}
